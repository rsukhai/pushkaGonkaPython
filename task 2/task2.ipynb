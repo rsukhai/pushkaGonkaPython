{
 "cells": [
  {
   "cell_type": "code",
   "execution_count": null,
   "metadata": {},
   "outputs": [],
   "source": [
    "class LoggingError(Exception):\n",
    "        def __init__(self):\n",
    "            self.message = \"Logg error\"\n",
    "        def __str__(self):\n",
    "            return self.message"
   ]
  },
  {
   "cell_type": "code",
   "execution_count": null,
   "metadata": {},
   "outputs": [],
   "source": [
    "class Logger:\n",
    "    def __init__(self, log_file='consolidated_logs.txt'):\n",
    "        self.log_file = log_file\n",
    "        self.old_logs = []  # Ініціалізація масиву для зберігання логів\n",
    "\n",
    "    def log(self, level, message):\n",
    "        \"\"\"Запис повідомлення в лог.\"\"\"\n",
    "        log_entry = f\"{datetime.now()} - {level.upper()} - {message}\"\n",
    "        self.old_logs.append(log_entry)  # Додавання логів в масив old_logs\n",
    "        \n",
    "        try:\n",
    "            with open(self.log_file, 'a') as file:\n",
    "                file.write(log_entry + \"\\n\")  # Запис логів у файл з новим рядком\n",
    "        except Exception as e:\n",
    "            raise LoggingError()\n",
    "\n",
    "    def info(self, message):\n",
    "        self.log('info', message)\n",
    "\n",
    "    def warning(self, message):\n",
    "        self.log('warning', message)\n",
    "\n",
    "    def error(self, message):\n",
    "        self.log('error', message)\n",
    "\n",
    "    def critical(self, message):\n",
    "        self.log('critical', message)\n",
    "    def save_old_logs_to_file(self, output_file='old_logs.txt'):\n",
    "        try:\n",
    "            with open(output_file, 'w') as file:\n",
    "                for log in self.old_logs:\n",
    "                    file.write(log + \"\\n\")\n",
    "            print(f\"Старі логи були успішно збережені в {output_file}\")\n",
    "        except Exception as e:\n",
    "            raise LoggingError()\n"
   ]
  },
  {
   "cell_type": "code",
   "execution_count": 4,
   "metadata": {},
   "outputs": [],
   "source": [
    "def move_old_logs_to_all_logs(self, old_logs_file='old_logs.txt', all_logs_file='all_logs.txt'):\n",
    "        \"\"\"Переміщення даних з old_logs.txt в all_logs.txt з підписом дати та очищення old_logs.txt.\"\"\"\n",
    "        try:\n",
    "            # Зчитуємо всі логи з old_logs.txt\n",
    "            with open(old_logs_file, 'r') as file:\n",
    "                logs = file.readlines()\n",
    "            \n",
    "            # Додаємо дату до кожного логу і записуємо в all_logs.txt\n",
    "            with open(all_logs_file, 'a') as file:\n",
    "                current_date = datetime.now().strftime('%Y-%m-%d %H:%M:%S')\n",
    "                for log in logs:\n",
    "                    file.write(f\"{current_date} - {log.strip()}\\n\")\n",
    "            \n",
    "            # Очищення файлу old_logs.txt після перенесення даних\n",
    "            open(old_logs_file, 'w').close()\n",
    "            \n",
    "            print(f\"Логи з {old_logs_file} успішно переміщені в {all_logs_file} і {old_logs_file} очищено.\")\n",
    "        \n",
    "        except Exception as e:\n",
    "            raise LoggingError()"
   ]
  },
  {
   "cell_type": "code",
   "execution_count": null,
   "metadata": {},
   "outputs": [],
   "source": [
    "class LoggerParser:\n",
    "    def __init__(self, file_name, logger):\n",
    "        self.file_name = file_name\n",
    "        self.logger = logger\n",
    "        try:\n",
    "            self.file = open(file_name, \"r\")\n",
    "        except FileNotFoundError:\n",
    "            raise LoggingError()\n",
    "    \n",
    "    def __del__(self):\n",
    "        self.file.close()\n",
    "\n",
    "    def parse(self):\n",
    "        \"\"\"Зчитує логи з файлу та додає їх до нового файлу логів.\"\"\"\n",
    "        try:\n",
    "            lines = self.file.readlines()\n",
    "            for line in lines:\n",
    "                # Вважаємо, що лог-файл має формат: \"2024-09-11 12:00:00 - INFO - Повідомлення\"\n",
    "                try:\n",
    "                    timestamp, level, message = line.strip().split(\" - \", 2)\n",
    "                    self.logger.log(level.lower(), message)\n",
    "                except ValueError as e:\n",
    "                    self.logger.error(f\"Помилка обробки логу: {e}\")\n",
    "        except Exception as e:\n",
    "            raise LoggingError()"
   ]
  },
  {
   "cell_type": "code",
   "execution_count": 6,
   "metadata": {},
   "outputs": [
    {
     "ename": "NameError",
     "evalue": "name 'Logger' is not defined",
     "output_type": "error",
     "traceback": [
      "\u001b[1;31m---------------------------------------------------------------------------\u001b[0m",
      "\u001b[1;31mNameError\u001b[0m                                 Traceback (most recent call last)",
      "Cell \u001b[1;32mIn[6], line 2\u001b[0m\n\u001b[0;32m      1\u001b[0m \u001b[39m# Створення екземпляру Logger\u001b[39;00m\n\u001b[1;32m----> 2\u001b[0m logger \u001b[39m=\u001b[39m Logger(\u001b[39m'\u001b[39m\u001b[39mconsolidated_logs.txt\u001b[39m\u001b[39m'\u001b[39m)\n\u001b[0;32m      4\u001b[0m \u001b[39m# Додавання кількох логів\u001b[39;00m\n\u001b[0;32m      5\u001b[0m logger\u001b[39m.\u001b[39minfo(\u001b[39m\"\u001b[39m\u001b[39mІнформаційне повідомлення\u001b[39m\u001b[39m\"\u001b[39m)\n",
      "\u001b[1;31mNameError\u001b[0m: name 'Logger' is not defined"
     ]
    }
   ],
   "source": [
    "# Створення екземпляру Logger\n",
    "logger = Logger('consolidated_logs.txt')\n",
    "\n",
    "# Додавання кількох логів\n",
    "logger.info(\"Інформаційне повідомлення\")\n",
    "logger.warning(\"Це попередження\")\n",
    "logger.error(\"Це помилка\")\n",
    "logger.critical(\"Це критична помилка\")\n",
    "\n",
    "# Збереження старих логів в окремий файл\n",
    "logger.save_old_logs_to_file('old_logs.txt')\n",
    "\n",
    "# Переміщення логів з old_logs.txt в all_logs.txt з додаванням дати та очищення old_logs.txt\n",
    "logger.move_old_logs_to_all_logs('old_logs.txt', 'all_logs.txt')\n"
   ]
  }
 ],
 "metadata": {
  "kernelspec": {
   "display_name": "Python 3",
   "language": "python",
   "name": "python3"
  },
  "language_info": {
   "codemirror_mode": {
    "name": "ipython",
    "version": 3
   },
   "file_extension": ".py",
   "mimetype": "text/x-python",
   "name": "python",
   "nbconvert_exporter": "python",
   "pygments_lexer": "ipython3",
   "version": "3.12.5"
  },
  "orig_nbformat": 4
 },
 "nbformat": 4,
 "nbformat_minor": 2
}
